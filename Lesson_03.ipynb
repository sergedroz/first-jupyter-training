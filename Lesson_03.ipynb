{
 "cells": [
  {
   "cell_type": "markdown",
   "id": "666ae208-f648-460d-9df9-2aad45328662",
   "metadata": {},
   "source": [
    "<img src=\"docs/ajccbc.png\">\n",
    "\n",
    "<p></p>\n",
    "<h1>Follow the money!</h1>\n",
    "\n",
    "*by Eireann Leverett and Serge Droz*\n",
    "\n",
    "Version: Oct 20, 2023\n",
    "\n",
    "This lesson will focus on ransomware and cryptocurrencies to introduce a some basic data science and statistical concepts. We'll look at a campaign called *Deadbolt*, and do some **survival analysis**. This term describes statistical methods that try to determine the duration of certain events. The name derives from biology where a common questions is how long does a population survive after a given event. The obvious question in incident response is how much time does it take from an initial compromise to full encryption. \n",
    "\n",
    "\n",
    "We then learn a surprising decryptor key mechanism. \n",
    "\n",
    "This tutorial is inspired by the good work we did in collaboration with Mark Ellzey @ censys.io. When you've finished the tutorial, go read some of the blogs listed at the bottom of this Lesson. This is possible, because there is a lot of information available about the ransomware. \n",
    "\n",
    "#### License\n",
    "\n",
    "This material is available under the [Creative Commons BY-NC-SA 4.0](https://creativecommons.org/licenses/by-nc-sa/4.0/) license."
   ]
  },
  {
   "cell_type": "code",
   "execution_count": null,
   "id": "8f5cab1b-696c-4423-847c-6eabe0a224e7",
   "metadata": {},
   "outputs": [],
   "source": [
    "import pandas as pd\n",
    "import json\n",
    "from scipy.stats import pearsonr\n",
    "from scipy.optimize import curve_fit\n",
    "import matplotlib.pyplot as plt\n",
    "plt.rcParams['figure.figsize'] = (8,5)\n",
    "plt.rcParams['figure.dpi'] = 300\n",
    "plt.rcParams['savefig.dpi'] = 300\n",
    "import numpy as np\n",
    "from lifelines import KaplanMeierFitter, NelsonAalenFitter, WeibullFitter\n",
    "from lifelines.utils import median_survival_times, datetimes_to_durations"
   ]
  },
  {
   "cell_type": "markdown",
   "id": "49ec3d69-4359-499b-bb75-c801600b82d5",
   "metadata": {},
   "source": [
    "We are going to analyse data about crypto payments related to the deadbold ransomware. The csv file contains transactions, i.e. the date, amount and wallets."
   ]
  },
  {
   "cell_type": "code",
   "execution_count": null,
   "id": "ba62e4d1-1266-4578-90bd-bdc1cc4d2af0",
   "metadata": {},
   "outputs": [],
   "source": [
    "#Get the data on all ransoms paid\n",
    "family_ransoms = pd.read_csv('data/DeadBolt_Accounts_RANSOMS.csv',index_col='confirmed_datetime',\n",
    "                              parse_dates=['confirmed_datetime','received_datetime'],\n",
    "                              date_format='ISO8601', low_memory=False)\n",
    "family_ransoms.info()\n"
   ]
  },
  {
   "cell_type": "markdown",
   "id": "41c929a4-9cd0-401e-952a-a9e1c632c18a",
   "metadata": {
    "execution": {
     "iopub.execute_input": "2023-10-21T07:14:58.694404Z",
     "iopub.status.busy": "2023-10-21T07:14:58.694081Z",
     "iopub.status.idle": "2023-10-21T07:14:58.700493Z",
     "shell.execute_reply": "2023-10-21T07:14:58.699264Z",
     "shell.execute_reply.started": "2023-10-21T07:14:58.694376Z"
    }
   },
   "source": [
    "Since we're interested in analyzing temporal behavior we sort the data frame after the received time, which is closer to the infection date that the confirmed time, which indicates when the transaction completed. So here we make an assumption, namely that the received time somehow correlates with the infection time. That's the best we can do without having to analyze each of the incidents in detail. This is a plausible assumption, but bey no means solid. "
   ]
  },
  {
   "cell_type": "code",
   "execution_count": null,
   "id": "e7491c7e-97f5-4a27-bdf7-7f2057c5ef62",
   "metadata": {},
   "outputs": [],
   "source": [
    "family_ransoms = family_ransoms.sort_values('received_datetime')"
   ]
  },
  {
   "cell_type": "markdown",
   "id": "e822bc2e-2fdd-4090-9090-7bb79592474d",
   "metadata": {},
   "source": [
    "Mark provided a json file containing the number of infections at a given date."
   ]
  },
  {
   "cell_type": "code",
   "execution_count": null,
   "id": "e0ea6a48-ca65-4819-b00d-e0beb52fb344",
   "metadata": {},
   "outputs": [],
   "source": [
    "#Infection data from Censys.io\n",
    "deadbolt_infections = [\n",
    "  { \"d\": \"2022-01-24\", \"count\":    \"1\" },\n",
    "  { \"d\": \"2022-01-25\", \"count\": \"4142\" },\n",
    "  { \"d\": \"2022-01-26\", \"count\": \"4988\" },\n",
    "  { \"d\": \"2022-01-27\", \"count\": \"3927\" },\n",
    "  { \"d\": \"2022-01-28\", \"count\": \"2002\" },\n",
    "  { \"d\": \"2022-01-29\", \"count\": \"1128\" },\n",
    "  { \"d\": \"2022-01-30\", \"count\":  \"920\" },\n",
    "  { \"d\": \"2022-01-31\", \"count\":  \"853\" },\n",
    "  { \"d\": \"2022-02-01\", \"count\":  \"783\" },\n",
    "  { \"d\": \"2022-02-02\", \"count\":  \"735\" },\n",
    "  { \"d\": \"2022-02-03\", \"count\":  \"712\" },\n",
    "  { \"d\": \"2022-02-04\", \"count\":  \"656\" },\n",
    "  { \"d\": \"2022-02-05\", \"count\":  \"627\" }\n",
    "]"
   ]
  },
  {
   "cell_type": "markdown",
   "id": "72028403-1f3c-4883-ab2d-ed3ed634c53d",
   "metadata": {},
   "source": [
    "Convert this to a dataframe (what else?):"
   ]
  },
  {
   "cell_type": "code",
   "execution_count": null,
   "id": "583bf0d9-b3c7-4cbf-af3b-5e5d2dc32553",
   "metadata": {},
   "outputs": [],
   "source": [
    "infection_timeseries = pd.DataFrame( deadbolt_infections,  )\n",
    "infection_timeseries.rename( { 'd' : 'Date' , 'count' : 'Count'} , inplace=True,axis=1)\n",
    "infection_timeseries['Date'] = pd.to_datetime( infection_timeseries['Date'] )\n",
    "infection_timeseries = infection_timeseries.astype( {'Count': 'int64'})\n",
    "\n",
    "infection_timeseries.set_index('Date', inplace=True)\n",
    "infection_timeseries.head()"
   ]
  },
  {
   "cell_type": "markdown",
   "id": "bfdbf4af-d0f1-4b98-aee8-4971e32be8ef",
   "metadata": {},
   "source": [
    "## A crash course in statistics\n",
    "\n",
    "Now let's do a little science and test something that should be intuitive. Does the number of infections correlate to the number of ransoms paid (numerically speaking). We'll need to talk a little about **the null hypothesis** is that they do not.\n",
    "\n",
    "In statistics the **the null hypothesis $H_0$** is the claim that two variables are not correlated, i.e. their relationship is truly random. For example a given drug has zero effect on some medical condition. Thus out job is to show that the null hypothesis is wrong.\n",
    "\n",
    "### Correlation\n",
    "\n",
    "In statistics **correlation** is a number indicating how strong the relation between two data sets is. There are different definitions but the most common one is **Pearson coefficient**, a number between -1 and 1. ! means positive correlation, i.e. if one number grows so does the other, and -1 is negative correlation indication that as one number grows the other decreases. For example height correlates with weight. A correlation of 0 says the two number do not correlate.\n",
    "\n",
    " > Correlation does not imply causation! For example the number of storks and the number of births are correlated: [Do Storks Deliver Babies?](https://priceonomics.com/do-storks-deliver-babies/)\n",
    "\n",
    "For completeness sake the formula for the Pearson correlation of a dataset $[ (x_1, y_1), ... (x_n, y_n)]$ is\n",
    "$$\n",
    "  r = \\frac{\\Sigma ( x_i - \\bar{x})(y_i - \\bar{y} )}{\\sqrt{ \\Sigma ( x_i - \\bar{x})^2 \\Sigma ( y_i - \\bar{y} )^2 } }  = \\frac{n ( \\Sigma x_i y_i ) - (\\Sigma x_i)(\\Sigma y_i)}{ \\sqrt{ (  n \\Sigma x_i^2 - (\\Sigma x_i)^2 ) (  n \\Sigma y_i^2 - (\\Sigma y_i)^2 ) }}\n",
    "$$\n",
    "\n",
    "where the sum runs from 1 to n and $\\bar{x}$ denotes the mean. Don't worry too much about the actual formula though. \n",
    "\n",
    "### p-value\n",
    "\n",
    "But how much does the r value mean? If you only have only few data points anything is possible. This is where the **p-value** enters the game, it tells you how likely the given data set rejects the null hypothesis, i.e. how what the likely hood is that the given correlation is not just a coincidence. The definition of the p-value is \n",
    "\n",
    "> *the probability that the data set has the given correlation assuming the $H-0$ is true.  \n",
    "\n",
    "Thus the lower the p-value the more likely the correlation is true. Typically people are happy with a p-value of less than 0.05 or 0.01 (5% or 1%).\n",
    "\n",
    "The article [Correlation and P value](https://dataschool.com/fundamentals-of-analysis/correlation-and-p-value/) gives a nice introductions. \n",
    "\n",
    "Luckily the `scipy` package does all the work for us. \n",
    "\n",
    "To summarize:\n",
    "\n",
    "- A low p-value **rejects the null hypothesis**\n",
    "- The correlation $r$ tells us **how strongly** the data is correlated.\n",
    "\n",
    "Let us now apply this to our data.  `family_ransoms` contains a list of ransowmare events, so we have to bin then. the Pandas function `resample` dies this for us, with the parameter `D` indicating to create bins of one day. The infection_time series only has the first 13 days, so we just cut the data of there. \n",
    "\n",
    "Then we feed the whole thing to `pysci.pearsonr` et voila:\n"
   ]
  },
  {
   "cell_type": "code",
   "execution_count": null,
   "id": "8c8c38c3-73ac-4190-bf72-4b0f9f53fbdb",
   "metadata": {},
   "outputs": [],
   "source": [
    "#Note this is a one day lag correlation\n",
    "corr, p_value = pearsonr(infection_timeseries['Count'], family_ransoms['count'].resample('D').sum().head(13))\n",
    "print('Pearsons correlation: %.3f' % corr)\n",
    "print('P-value is: %.10F' % p_value)"
   ]
  },
  {
   "cell_type": "markdown",
   "id": "e092f63b-fed6-42d1-af34-25f0009b0c99",
   "metadata": {},
   "source": [
    "Trying to sum up our result into a single scientific sentence:\n",
    "We can reject the null hypothesis that ransoms don't correlate with infections.\n",
    "Or in more plain English:\n",
    "There's less than a 1% chance of our scientific result occuring by accident.\n",
    "So, More infections = more ransoms paid."
   ]
  },
  {
   "cell_type": "code",
   "execution_count": null,
   "id": "7acfa21b-8502-4a79-b623-2e9f8d5a546d",
   "metadata": {},
   "outputs": [],
   "source": [
    "#Let's look at how the infections change over time\n",
    "fig, ax = plt.subplots() \n",
    "ax.plot(infection_timeseries.index,infection_timeseries['Count'], label = \"Infections\")\n",
    "ax.tick_params(axis='x', labelrotation = 45)\n",
    "ax.set_title(\"Number of infectiosn over time\")\n",
    "ax.set_xlabel( \"Date\" )\n",
    "ax.set_ylabel(\"Number\")\n",
    "ax.grid()\n"
   ]
  },
  {
   "cell_type": "markdown",
   "id": "edbdb78f-adae-429b-bb6a-2bdfff8d2029",
   "metadata": {},
   "source": [
    "Sometimes you need a certain number over and over again. So just define it at one place, but don't forget to change it if you get new data, i.e. you learn about new infections. In our example the number of days for which we have data is such a number. It has no statistical meaning, it's just convenience here. "
   ]
  },
  {
   "cell_type": "code",
   "execution_count": null,
   "id": "0e1c7ed6-4819-4718-bf5b-7bd35d66e25e",
   "metadata": {},
   "outputs": [],
   "source": [
    "num_days = len(family_ransoms['count'].resample('D').sum())\n",
    "num_days"
   ]
  },
  {
   "cell_type": "markdown",
   "id": "e88bb85c-be5a-4fd7-bc86-b2de33dddaa5",
   "metadata": {
    "execution": {
     "iopub.execute_input": "2023-10-21T09:16:05.805286Z",
     "iopub.status.busy": "2023-10-21T09:16:05.804986Z",
     "iopub.status.idle": "2023-10-21T09:16:05.812133Z",
     "shell.execute_reply": "2023-10-21T09:16:05.811316Z",
     "shell.execute_reply.started": "2023-10-21T09:16:05.805251Z"
    }
   },
   "source": [
    "Let's have a look at the ransoms payed as time goes on"
   ]
  },
  {
   "cell_type": "code",
   "execution_count": null,
   "id": "a23d37a8-4b40-42a5-9866-f25fadfcb51b",
   "metadata": {},
   "outputs": [],
   "source": [
    "#Let's look at ransoms paid over time\n",
    "fig, ax = plt.subplots() \n",
    "ax.plot(np.arange(1,num_days,1),family_ransoms.resample('D').count()['count'][1:], label = \"Ransoms\")\n",
    "ax.set_xlabel('Days since the first infection')\n",
    "ax.set_ylabel('Ransoms paid per day')\n",
    "ax.grid()\n",
    "_ = ax.set_title(\"Ransoms paid over time\")"
   ]
  },
  {
   "cell_type": "markdown",
   "id": "85815501-6ee7-4aa7-b25f-1a1a79e8c12e",
   "metadata": {},
   "source": [
    "## Payments over time: Survival analysis\n",
    "\n",
    "We now want to get an idea how long it takes people to pay the ransom. We don't really know when exactly people got infected. But saw above that most infections occurred with two weeks of the initial one. However ransoms were payed for nearly 500 days since that initial date. So it's probably an ok to just assume they all got infected on the first day.\n",
    "\n",
    "We can then calculate the time a victim took if it paid. This is called a survival analysis, a concept coming from biology or medicine. Think of patients dying after a certain amount of time. The **[Kaplan–Meier estimator](https://en.wikipedia.org/wiki/Kaplan%E2%80%93Meier_estimator)** is a statistical tool to calculate the **survival function**. It gives the the percent interval of patents dying after a given amount of time, resp. the number of victims paying the ransom after a given time having been encrypted. \n",
    "\n",
    "The python packet [lifelines](https://lifelines.readthedocs.io) provides all the tools needed as well as further information. \n",
    "\n",
    "So let's calculate this. FIRST we construct a new dataframe containing two columns: `infection`, which is just the first day infections were observed and `payments` which contains the payment date or non, if no ransom was paid."
   ]
  },
  {
   "cell_type": "code",
   "execution_count": null,
   "id": "fa63a433-52a8-4165-9616-f9c8c8816fb2",
   "metadata": {},
   "outputs": [],
   "source": [
    "first_infection = infection_timeseries.iloc[0].name.date()\n",
    "max_daily_infections = max(infection_timeseries['Count'])\n",
    "\n",
    "print(\"Maximum daily infections\", max_daily_infections )\n",
    "payment_list = family_ransoms['received_datetime'].dt.date.to_list()\n",
    "non_payment_list = [None]*(max_daily_infections-len(payment_list))\n",
    "full_list = payment_list + non_payment_list\n",
    "#d = {'infection' : ['2022-01-24']*max_daily_infections,\n",
    "d = {'infection' : [first_infection]*max_daily_infections,\n",
    "     'payment'   : full_list}\n",
    "survival_analysis = pd.DataFrame(d)\n",
    "survival_analysis"
   ]
  },
  {
   "cell_type": "markdown",
   "id": "20151c7d-4212-41b3-871e-9963c4ee4c0b",
   "metadata": {
    "execution": {
     "iopub.execute_input": "2023-10-21T18:50:47.200872Z",
     "iopub.status.busy": "2023-10-21T18:50:47.200524Z",
     "iopub.status.idle": "2023-10-21T18:50:47.209045Z",
     "shell.execute_reply": "2023-10-21T18:50:47.208311Z",
     "shell.execute_reply.started": "2023-10-21T18:50:47.200848Z"
    }
   },
   "source": [
    "We no convert this to durations (i.e. how many days until a ransom was paid) and a list of bools indication if a ransom was paid or not. This can then be feed to the Kaplan-Meier Fitter.  "
   ]
  },
  {
   "cell_type": "code",
   "execution_count": null,
   "id": "f8fa7e8a-9dba-4f7b-8d98-b682bb02b662",
   "metadata": {},
   "outputs": [],
   "source": [
    "kmf = KaplanMeierFitter()\n",
    "#survival_analysis = survival_analysis.reset_index()\n",
    "#survival_analysis = survival_analysis[['infection','payment']]\n",
    "T, E = datetimes_to_durations(survival_analysis['infection'], survival_analysis['payment'], freq='D')\n",
    "kmf.fit(T, E, label='Deadbolt Ransom Payment Proportion Over Time')\n",
    "ax = kmf.plot()\n",
    "ax.set_xlabel('Duration from infection to ransom payment (days)')\n",
    "ax.set_ylabel('Proportion of infection who did not pay ransom')\n",
    "ax.grid()"
   ]
  },
  {
   "cell_type": "markdown",
   "id": "b8dc187e-8513-480c-b042-2d2459b86394",
   "metadata": {
    "execution": {
     "iopub.execute_input": "2023-10-21T18:57:27.143562Z",
     "iopub.status.busy": "2023-10-21T18:57:27.142878Z",
     "iopub.status.idle": "2023-10-21T18:57:27.147269Z",
     "shell.execute_reply": "2023-10-21T18:57:27.146566Z",
     "shell.execute_reply.started": "2023-10-21T18:57:27.143541Z"
    }
   },
   "source": [
    "The Kaplan-Meier Filter gives a confidence interval. "
   ]
  },
  {
   "cell_type": "code",
   "execution_count": null,
   "id": "c5effad7-9ff0-4889-ada4-cac62a5d5bad",
   "metadata": {},
   "outputs": [],
   "source": [
    "kmf.confidence_interval_"
   ]
  },
  {
   "cell_type": "markdown",
   "id": "1a72d3cc-aecc-48ca-a159-482daedb3237",
   "metadata": {
    "execution": {
     "iopub.execute_input": "2023-10-21T18:58:19.774150Z",
     "iopub.status.busy": "2023-10-21T18:58:19.773569Z",
     "iopub.status.idle": "2023-10-21T18:58:19.779934Z",
     "shell.execute_reply": "2023-10-21T18:58:19.778726Z",
     "shell.execute_reply.started": "2023-10-21T18:58:19.774099Z"
    }
   },
   "source": [
    "## Interesting Bitcoin addresses\n",
    "\n",
    "There's a very interesting BTC address in here, that both sends and recieves. Can you figure out which one?"
   ]
  },
  {
   "cell_type": "code",
   "execution_count": null,
   "id": "f0d55529-0699-4659-902c-fdd0875db2e3",
   "metadata": {},
   "outputs": [],
   "source": [
    "!tail -n 2 'data/DeadBolt_Accounts_TRXNS.csv'"
   ]
  },
  {
   "cell_type": "code",
   "execution_count": null,
   "id": "dc61ee77-492a-45e7-85e7-8dd9f7157c0f",
   "metadata": {},
   "outputs": [],
   "source": [
    "# Get the data on all transactions\n",
    "# There's a very interesting BTC address in here, that both sends and recieves. Can you figure out which one?\n",
    "find_the_interesting_address= pd.read_csv('data/DeadBolt_Accounts_TRXNS.csv',index_col='confirmed_datetime',parse_dates=['confirmed_datetime','received_datetime'],low_memory=False)\n",
    "find_the_interesting_address.head()\n"
   ]
  },
  {
   "cell_type": "markdown",
   "id": "67488e47-93ef-414c-bd76-41a6c0900595",
   "metadata": {},
   "source": [
    "Now you may need to look at other sources than just this notebook to figure out what is going on.  Use the address in a blockchain explorer, and see if you can understand what is in the the OP_RETURN fields of  transactions to that address."
   ]
  },
  {
   "cell_type": "code",
   "execution_count": null,
   "id": "82fa374b-cce6-44a8-87c4-c56133a8d88a",
   "metadata": {},
   "outputs": [],
   "source": [
    "# Your solution here"
   ]
  },
  {
   "cell_type": "markdown",
   "id": "d68ebeb1-40f4-4842-8956-6ef1fdb6a0b7",
   "metadata": {},
   "source": [
    "## More literature about Deadbolt\n",
    "Mark's [initial post](https://censys.com/tracking-deadbolt-ransomware-across-the-globe/), where he contacted me to follow the money.\n",
    "Mark's [follow up](https://censys.com/the-neverending-story-of-deadbolt/) work with his own data science team.\n",
    "The data science team at Censys made it easy to [track infections](https://lookerstudio.google.com/reporting/f8d38b6c-9997-4bba-be93-19cf57d7371a/page/p_dxblu6m2uc). Which is a practical and real world example of how jupyter notebooks and collaboration helps incident response."
   ]
  }
 ],
 "metadata": {
  "kernelspec": {
   "display_name": "Python 3 (ipykernel)",
   "language": "python",
   "name": "python3"
  },
  "language_info": {
   "codemirror_mode": {
    "name": "ipython",
    "version": 3
   },
   "file_extension": ".py",
   "mimetype": "text/x-python",
   "name": "python",
   "nbconvert_exporter": "python",
   "pygments_lexer": "ipython3",
   "version": "3.11.9"
  }
 },
 "nbformat": 4,
 "nbformat_minor": 5
}
